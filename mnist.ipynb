{
 "cells": [
  {
   "cell_type": "markdown",
   "metadata": {},
   "source": [
    "##### Process the Mnist dataset (Invert and define Edges)"
   ]
  },
  {
   "cell_type": "code",
   "execution_count": 51,
   "metadata": {},
   "outputs": [
    {
     "data": {
      "image/png": "[encoded data removed]",
      "text/plain": [
       "<Figure size 800x400 with 2 Axes>"
      ]
     },
     "metadata": {},
     "output_type": "display_data"
    }
   ],
   "source": [
    "from PIL import Image\n",
    "import numpy as np\n",
    "import matplotlib.pyplot as plt\n",
    "\n",
    "def invert_and_threshold(image_path, cell_size=4, threshold=50):\n",
    "    original_image = Image.open(image_path)\n",
    "    original_array = np.array(original_image)\n",
    "    height, width = original_array.shape\n",
    "    cell_height, cell_width = cell_size, cell_size\n",
    "    result_array = np.zeros_like(original_array)\n",
    "    for y in range(0, height, cell_height):\n",
    "        for x in range(0, width, cell_width):\n",
    "            cell = original_array[y:y+cell_height, x:x+cell_width]\n",
    "            white_count = np.sum(cell == 255)\n",
    "            black_count = np.sum(cell == 0)\n",
    "            intermediate_pixel = 255 if white_count > black_count else 0\n",
    "            cell_result = np.where(cell < threshold, 255, 0).astype(np.uint8)\n",
    "            cell_result = np.where(cell_result == 0, 255, 0)\n",
    "            result_array[y:y+cell_height, x:x+cell_width] = cell_result\n",
    "\n",
    "    inverted_array = np.where(result_array < 100, 255, 0).astype(np.uint8)\n",
    "    result_image = Image.fromarray(inverted_array )\n",
    "\n",
    "    return result_image\n",
    "\n",
    "# Example usage\n",
    "image_path = r\"C:\\Users\\shova\\Downloads\\Compressed\\trainingSet\\trainingSet\\5\\img_10001.jpg\"  # Replace with the actual path to your image\n",
    "result_image = invert_and_threshold(image_path)\n",
    "result_image.save(\"mnist_test.jpg\")\n",
    "\n",
    "# Display the original and result images\n",
    "plt.figure(figsize=(8, 4))\n",
    "\n",
    "plt.subplot(1, 2, 1)\n",
    "plt.title(\"Original Image\")\n",
    "plt.imshow(np.array(Image.open(image_path)), cmap='gray')\n",
    "plt.axis('off')\n",
    "\n",
    "plt.subplot(1, 2, 2)\n",
    "plt.title(\"Processed Image\")\n",
    "plt.imshow(np.array(result_image), cmap='gray')\n",
    "plt.axis('off')\n",
    "\n",
    "plt.show()\n"
   ]
  },
  {
   "cell_type": "markdown",
   "metadata": {},
   "source": [
    "#### Display Result "
   ]
  },
  {
   "cell_type": "code",
   "execution_count": 53,
   "metadata": {},
   "outputs": [
    {
     "data": {
      "image/png": "[encoded data removed]",
      "text/plain": [
       "<Figure size 800x400 with 2 Axes>"
      ]
     },
     "metadata": {},
     "output_type": "display_data"
    }
   ],
   "source": [
    "image_path = r\"D:\\IEM\\SEM3\\Project\\CREATE_LSB_Stego_dataset\\NEWDATASET2\\3_Mnist\\Filtered\\5\\img_10001.jpg\"  # Replace with the actual path to your image\n",
    "result_image = r\"D:\\IEM\\SEM3\\Project\\CREATE_LSB_Stego_dataset\\NEWDATASET2\\3_Mnist\\inverted_images_edges4\\5\\img_10001.jpg\"\n",
    "\n",
    "# Display the original and result images\n",
    "plt.figure(figsize=(8, 4))\n",
    "\n",
    "plt.subplot(1, 2, 1)\n",
    "plt.title(\"Original Image\")\n",
    "plt.imshow(np.array(Image.open(image_path)), cmap='gray')\n",
    "plt.axis('off')\n",
    "\n",
    "plt.subplot(1, 2, 2)\n",
    "plt.title(\"Processed Image\")\n",
    "plt.imshow(np.array(Image.open(result_image)), cmap='gray')\n",
    "plt.axis('off')\n",
    "\n",
    "plt.show()\n"
   ]
  },
  {
   "cell_type": "markdown",
   "metadata": {},
   "source": [
    "##### Hide MNIST Data into Bit_Manipulated DataSet"
   ]
  },
  {
   "cell_type": "code",
   "execution_count": 59,
   "metadata": {},
   "outputs": [
    {
     "name": "stdout",
     "output_type": "stream",
     "text": [
      "Original Image Mode: L\n",
      "Payload Image Mode: L\n",
      "Original Image Size: (256, 256)\n",
      "Payload Image Size: (28, 28)\n"
     ]
    }
   ],
   "source": [
    "from PIL import Image\n",
    "import numpy as np\n",
    "import random\n",
    "\n",
    "# Encoder \n",
    "def Encoder(image_path, payload):\n",
    "    original_image = Image.open(image_path)\n",
    "    secret_array = np.array(payload.convert('L'))  # Convert payload to grayscale\n",
    "    original_array = np.array(original_image)\n",
    "\n",
    "    print(f\"Original Image Size: {original_array.shape}\")\n",
    "    print(f\"Payload Image Size: {secret_array.shape}\")\n",
    "\n",
    "    # Ensure the payload image is the same size or smaller than the original image\n",
    "    if secret_array.shape[0] > original_array.shape[0] or secret_array.shape[1] > original_array.shape[1]:\n",
    "        raise ValueError(\"Payload image should be smaller or equal in size to the original image.\")\n",
    "\n",
    "    # Choose a random starting position for embedding the payload image\n",
    "    start_y = random.randint(0, original_array.shape[0] - secret_array.shape[0])\n",
    "    start_x = random.randint(0, original_array.shape[1] - secret_array.shape[1])\n",
    "\n",
    "    # Iterate through the payload image and embed it in the LSB of the original image\n",
    "    for y in range(secret_array.shape[0]):\n",
    "        for x in range(secret_array.shape[1]):\n",
    "            original_pixel = original_array[y + start_y, x + start_x]\n",
    "            secret_pixel = secret_array[y, x]\n",
    "            modified_pixel = (original_pixel & 0b1111111111111110) | (secret_pixel & 1)\n",
    "            original_array[y + start_y, x + start_x] = modified_pixel\n",
    "\n",
    "    steganographic_image = Image.fromarray(original_array)\n",
    "  \n",
    "    return steganographic_image\n",
    "\n",
    "# Paths to images\n",
    "# input_folder = r\"D:\\IEM\\SEM3\\Project\\CREATE_LSB_Stego_dataset\\NEWDATASET2\\3_Mnist\\inverted_images_edges2\\5\\img_10001.jpg\" \n",
    "input_folder = r\"D:\\IEM\\SEM3\\Project\\CREATE_LSB_Stego_dataset\\NEWDATASET2\\3_Mnist\\Filtered\\5\\img_10001.jpg\"\n",
    "image_path =r\"D:\\IEM\\SEM3\\Project\\CREATE_LSB_Stego_dataset\\NEWDATASET2\\ORG\\BIT_MNIPULATED\\2__LSB1.png\" \n",
    "output_image_path = 'mnist_random.png'\n",
    "\n",
    "# Load the original image\n",
    "original_image = Image.open(image_path)\n",
    "print(f\"Original Image Mode: {original_image.mode}\")\n",
    "\n",
    "# Load the smaller image to hide\n",
    "payload_image = Image.open(input_folder)\n",
    "print(f\"Payload Image Mode: {payload_image.mode}\")\n",
    "\n",
    "# Encode the payload image into the original image\n",
    "result_image = Encoder(image_path, payload_image)\n",
    "\n",
    "# Save the result image\n",
    "result_image.save(output_image_path)\n"
   ]
  },
  {
   "cell_type": "markdown",
   "metadata": {},
   "source": [
    "#### Decoder "
   ]
  },
  {
   "cell_type": "code",
   "execution_count": 58,
   "metadata": {},
   "outputs": [],
   "source": [
    "def decode_rectangle(steganographic_image_path, output_image_path):\n",
    "    steganographic_image = Image.open(steganographic_image_path)\n",
    "    steganographic_array = np.array(steganographic_image)\n",
    "    extracted_rectangle = steganographic_array & 1\n",
    "    # extracted_image = Image.fromarray((extracted_rectangle * 255).astype(np.uint8))\n",
    "    extracted_image = Image.fromarray((extracted_rectangle*255).astype(np.uint8))\n",
    "    extracted_image.save(output_image_path)\n",
    "\n",
    "    \n",
    "decode_rectangle(r\"D:\\IEM\\SEM3\\Project\\CREATE_LSB_Stego_dataset\\NEWDATASET2\\mnist_random.png\", \"extracted_rectangle2.png\")\n",
    "\n",
    "    "
   ]
  }
 ],
 "metadata": {
  "kernelspec": {
   "display_name": "Python 3",
   "language": "python",
   "name": "python3"
  },
  "language_info": {
   "codemirror_mode": {
    "name": "ipython",
    "version": 3
   },
   "file_extension": ".py",
   "mimetype": "text/x-python",
   "name": "python",
   "nbconvert_exporter": "python",
   "pygments_lexer": "ipython3",
   "version": "3.11.4"
  }
 },
 "nbformat": 4,
 "nbformat_minor": 2
}
